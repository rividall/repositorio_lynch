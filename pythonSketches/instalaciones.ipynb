{
 "cells": [
  {
   "cell_type": "markdown",
   "id": "f58eccd5-dff9-44ad-8a22-390164456389",
   "metadata": {},
   "source": [
    "instalar mpl"
   ]
  },
  {
   "cell_type": "code",
   "execution_count": null,
   "id": "ec88b99c-4361-4a33-8e81-670e2368ea80",
   "metadata": {},
   "outputs": [],
   "source": [
    "!pip install matplotlib"
   ]
  }
 ],
 "metadata": {
  "kernelspec": {
   "display_name": "Python 3 (ipykernel)",
   "language": "python",
   "name": "python3"
  },
  "language_info": {
   "codemirror_mode": {
    "name": "ipython",
    "version": 3
   },
   "file_extension": ".py",
   "mimetype": "text/x-python",
   "name": "python",
   "nbconvert_exporter": "python",
   "pygments_lexer": "ipython3",
   "version": "3.12.8"
  }
 },
 "nbformat": 4,
 "nbformat_minor": 5
}
